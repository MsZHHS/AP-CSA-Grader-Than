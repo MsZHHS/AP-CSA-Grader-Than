{
 "cells": [
  {
   "cell_type": "markdown",
   "metadata": {
    "vscode": {
     "languageId": "java"
    }
   },
   "source": [
    "1. Use a for loop to print “Hello” 5 times"
   ]
  },
  {
   "cell_type": "code",
   "execution_count": null,
   "metadata": {
    "vscode": {
     "languageId": "java"
    }
   },
   "outputs": [],
   "source": []
  },
  {
   "cell_type": "markdown",
   "metadata": {},
   "source": [
    "2. Use a for loop to count up to 100 and display each number"
   ]
  },
  {
   "cell_type": "code",
   "execution_count": null,
   "metadata": {
    "vscode": {
     "languageId": "java"
    }
   },
   "outputs": [],
   "source": []
  },
  {
   "cell_type": "markdown",
   "metadata": {},
   "source": [
    "3. Use a for loop to count up to 100 by 2’s and display each number"
   ]
  },
  {
   "cell_type": "code",
   "execution_count": null,
   "metadata": {
    "vscode": {
     "languageId": "java"
    }
   },
   "outputs": [],
   "source": []
  },
  {
   "cell_type": "markdown",
   "metadata": {},
   "source": [
    "4. Write code that will display “99 bottles of pop on the wall. Take one down, pass it around, 98 bottles of pop on the wall” such that it continues down to “1 bottle of pop on the wall. Take one down, pass it around, 0 bottles of pop on the wall”."
   ]
  },
  {
   "cell_type": "code",
   "execution_count": null,
   "metadata": {
    "vscode": {
     "languageId": "java"
    }
   },
   "outputs": [],
   "source": []
  },
  {
   "cell_type": "markdown",
   "metadata": {},
   "source": [
    "5. Write code that will find and print all of the factors of a number stored in the\n",
    "variable findFactorsOf."
   ]
  },
  {
   "cell_type": "code",
   "execution_count": null,
   "metadata": {
    "vscode": {
     "languageId": "java"
    }
   },
   "outputs": [],
   "source": [
    "int findFactorsOf = 60;\n",
    "\n",
    "// Put your code after this comment"
   ]
  },
  {
   "cell_type": "markdown",
   "metadata": {},
   "source": [
    "6. Write code that will count all of the a’s that are in a string stored in the\n",
    "variable countAs and print the count.\n",
    "\n",
    "EX. For the string \"apple\", it should print 1. For \"aardvark\", it should print 3. For \"aaaaa\", it should print 5."
   ]
  },
  {
   "cell_type": "markdown",
   "metadata": {},
   "source": [
    "NOTE for #6 (Highly recommended) :\n",
    "\n",
    "First, write the program without a loop such that it will count the number of a’s typed in a 5 character word\n",
    "\n",
    "Adjust the program so that it will work with any number of characters"
   ]
  },
  {
   "cell_type": "code",
   "execution_count": null,
   "metadata": {
    "vscode": {
     "languageId": "java"
    }
   },
   "outputs": [],
   "source": [
    "String countAs = \"apple\";\n",
    "\n",
    "// Put your code after this comment"
   ]
  }
 ],
 "metadata": {
  "kernelspec": {
   "display_name": "Java",
   "language": "java",
   "name": "java"
  },
  "language_info": {
   "codemirror_mode": "java",
   "file_extension": ".jshell",
   "mimetype": "text/x-java-source",
   "name": "Java",
   "pygments_lexer": "java",
   "version": "21.0.3+12-LTS"
  }
 },
 "nbformat": 4,
 "nbformat_minor": 2
}
